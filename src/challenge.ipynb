{
 "cells": [
  {
   "cell_type": "markdown",
   "metadata": {},
   "source": [
    "### Desafio LATAM DE\n",
    "#####  Realizado por: Carlos Mendoza R.\n",
    "Viernes 22 de Marzo 2024."
   ]
  },
  {
   "cell_type": "markdown",
   "metadata": {},
   "source": [
    "##### Introducción.\n",
    "En este desafió se realiza la propuesta de solución para tres problemas enfocados cada uno en la optimización de memoria y de tiempo en cada uno de ellos considerando una base de datos de tipo no relacional de formato JSON. De 348Mb de información. Con 117407 registros que representan cada uno de ellos un tweet en relacion a la protesta de farmers. Para ello se desarrolla un repositorio capaz de procesar esta información de la siguiente estructura. \n",
    "```\n",
    "├── README.md\n",
    "├── data\n",
    "│   └── farmers-protest-tweets-2021-2-4.json\n",
    "├── requirements.txt\n",
    "├── set-up.sh\n",
    "└── src\n",
    "    ├── challenge.ipynb\n",
    "    ├── q1_memory.py\n",
    "    ├── q1_time.py\n",
    "    ├── q2_memory.py\n",
    "    ├── q2_time.py\n",
    "    ├── q3_memory.py\n",
    "    ├── q3_time.py\n",
    "    └── utils.py\n",
    "```\n",
    "\n",
    "Se utiliza un archivo bash set-up.sh para dejar listo el ambiente de python y además para ir creando la estructura extra a la entregada por el repositorio en la plataforma git. \n",
    "\n"
   ]
  },
  {
   "cell_type": "markdown",
   "metadata": {},
   "source": [
    "En general la forma de plantear las optimizaciones por Memoria y Tiempo se ejecuta de la siguiente estructura:\n",
    "\n",
    "#### Optimización por Memoria. \n",
    "\n",
    "Al momento de cargar el archivo este hace recorriendo el archivo json linea por linea, al momento de leer la linea se ejecuta el o los métodos para obtener por linea la información necesaria para dar solución al problema. En pseudo-código es la siguiente estructura.\n",
    "\n",
    "```\n",
    "def read_file\n",
    "    key_information = []\n",
    "    for line in lines\n",
    "        key_information += method_to_get_key_information(line)\n",
    "    end\n",
    "    return method_to_get_final_solution(key_information)\n",
    "end\n",
    "```\n",
    "\n",
    "El objetivo de esto es que solo se mantiene 'activo' en la memoria la linea y no todo el archivo disminuyendo el espacio ocupado. Sin embargo, en casi todos los casos el tiempo de ejecución va aumentando dado que se ejecuta muchas veces los métodos.\n",
    "\n",
    "#### Optimización por Tiempo.\n",
    "\n",
    "Al momento de leer los datos se espera que este todo el archivo cargado luego de esto se ejecutan distintos métodos para obtener los valores importantes para dar a la solución, en cada método se toma toda la información de los datos y se va procesando.  El pseudo-código es de la siguente manera. \n",
    "\n",
    "```\n",
    "def read_file\n",
    "    ... logic to read file\n",
    "end\n",
    "\n",
    "def method_to_get_solution_1\n",
    "    ...logic 1\n",
    "end\n",
    "\n",
    "def method_to_get_solution_2\n",
    "    ...logic 2\n",
    "end\n",
    "\n",
    "data = read_file\n",
    "key_info1 = method_to_get_solution1(data)\n",
    "solution = method_to_get_solution2(data)\n",
    "```\n",
    "De esta manera se va optimizando el tiempo de proceso. Además de algunas formas más optimas en cada método para obtener la solución."
   ]
  },
  {
   "cell_type": "markdown",
   "metadata": {},
   "source": [
    "### Pruebas de códigos"
   ]
  },
  {
   "cell_type": "code",
   "execution_count": 16,
   "metadata": {},
   "outputs": [
    {
     "name": "stdout",
     "output_type": "stream",
     "text": [
      "Filename: /Users/Carlos/Documents/Scripts/Desafios/latam_de/src/q1_memory.py\n",
      "\n",
      "Line #    Mem usage    Increment  Occurrences   Line Contents\n",
      "=============================================================\n",
      "    44     26.4 MiB     26.4 MiB           1   @timer\n",
      "    45                                         @profile\n",
      "    46                                         def q1_memory(file_path: str) -> List[Tuple[datetime.date, str]]:\n",
      "    47     35.8 MiB      9.4 MiB           1       dates_data = count_dates(file_path)\n",
      "    48     35.9 MiB      0.0 MiB           1       result = get_top_users_per_date(dates_data)\n",
      "    49     35.9 MiB      0.0 MiB           1       return result\n",
      "\n",
      "\n",
      "Function 'q1_memory' executed in 5.793476 seconds\n"
     ]
    },
    {
     "data": {
      "text/plain": [
       "[(datetime.date(2021, 2, 12), 'RanbirS00614606'),\n",
       " (datetime.date(2021, 2, 13), 'MaanDee08215437'),\n",
       " (datetime.date(2021, 2, 17), 'RaaJVinderkaur'),\n",
       " (datetime.date(2021, 2, 16), 'jot__b'),\n",
       " (datetime.date(2021, 2, 14), 'rebelpacifist'),\n",
       " (datetime.date(2021, 2, 18), 'neetuanjle_nitu'),\n",
       " (datetime.date(2021, 2, 15), 'jot__b'),\n",
       " (datetime.date(2021, 2, 20), 'MangalJ23056160'),\n",
       " (datetime.date(2021, 2, 23), 'Surrypuria'),\n",
       " (datetime.date(2021, 2, 19), 'Preetm91')]"
      ]
     },
     "execution_count": 16,
     "metadata": {},
     "output_type": "execute_result"
    }
   ],
   "source": [
    "from q1_memory import q1_memory\n",
    "\n",
    "file_path = \"../data/farmers-protest-tweets-2021-2-4.json\"\n",
    "q1_memory(file_path)\n",
    "\n",
    "# Function 'q1_memory' executed in 5.490770 seconds\n",
    "# [(datetime.date(2021, 2, 12), 'RanbirS00614606'),\n",
    "#  (datetime.date(2021, 2, 13), 'MaanDee08215437'),\n",
    "#  (datetime.date(2021, 2, 17), 'RaaJVinderkaur'),\n",
    "#  (datetime.date(2021, 2, 16), 'jot__b'),\n",
    "#  (datetime.date(2021, 2, 14), 'rebelpacifist'), \n",
    "#  (datetime.date(2021, 2, 18), 'neetuanjle_nitu'),\n",
    "#  (datetime.date(2021, 2, 15), 'jot__b'), \n",
    "#  (datetime.date(2021, 2, 20), 'MangalJ23056160'),\n",
    "#  (datetime.date(2021, 2, 23), 'Surrypuria'),\n",
    "#  (datetime.date(2021, 2, 19), 'Preetm91')]\n",
    "\n",
    "\n",
    "## RESULTS\n",
    "# Line #    Mem usage    Increment  Occurrences   Line Contents\n",
    "# =============================================================\n",
    "#     44     43.1 MiB     43.1 MiB           1   @timer\n",
    "#     45                                         @profile\n",
    "#     46                                         def q1_memory(file_path: str) -> List[Tuple[datetime.date, str]]:\n",
    "#     47     41.3 MiB     -1.9 MiB           1       dates_data = count_dates(file_path)\n",
    "#     48     41.8 MiB      0.5 MiB           1       result = get_top_users_per_date(dates_data)\n",
    "#     49     41.8 MiB      0.0 MiB           1       return result\n"
   ]
  },
  {
   "cell_type": "code",
   "execution_count": 17,
   "metadata": {},
   "outputs": [
    {
     "name": "stdout",
     "output_type": "stream",
     "text": [
      "Filename: /Users/Carlos/Documents/Scripts/Desafios/latam_de/src/q1_time.py\n",
      "\n",
      "Line #    Mem usage    Increment  Occurrences   Line Contents\n",
      "=============================================================\n",
      "    47     37.4 MiB     37.4 MiB           1   @timer\n",
      "    48                                         @profile\n",
      "    49                                         def q1_time(file_path: str) -> List[Tuple[datetime.date, str]]:\n",
      "    50     37.4 MiB      0.0 MiB           1       result = list()\n",
      "    51     92.4 MiB     55.0 MiB           1       df = json_to_df(file_path)\n",
      "    52     92.5 MiB      0.0 MiB           1       date_df = df['date']\n",
      "    53     93.7 MiB      1.2 MiB           1       top_10_dates = get_top_10_dates(date_df)\n",
      "    54     97.7 MiB      0.0 MiB          11       for date in top_10_dates:\n",
      "    55     97.7 MiB      4.0 MiB          10           user = get_tweeter_user_per_day(date, df)\n",
      "    56     97.7 MiB      0.0 MiB          10           result.append((date, user))\n",
      "    57     97.7 MiB      0.0 MiB           1       return result\n",
      "\n",
      "\n",
      "Function 'q1_time' executed in 6.685767 seconds\n"
     ]
    },
    {
     "data": {
      "text/plain": [
       "[(datetime.date(2021, 2, 12), 'RanbirS00614606'),\n",
       " (datetime.date(2021, 2, 13), 'MaanDee08215437'),\n",
       " (datetime.date(2021, 2, 17), 'RaaJVinderkaur'),\n",
       " (datetime.date(2021, 2, 16), 'jot__b'),\n",
       " (datetime.date(2021, 2, 14), 'rebelpacifist'),\n",
       " (datetime.date(2021, 2, 18), 'neetuanjle_nitu'),\n",
       " (datetime.date(2021, 2, 15), 'jot__b'),\n",
       " (datetime.date(2021, 2, 20), 'MangalJ23056160'),\n",
       " (datetime.date(2021, 2, 23), 'Surrypuria'),\n",
       " (datetime.date(2021, 2, 19), 'Preetm91')]"
      ]
     },
     "execution_count": 17,
     "metadata": {},
     "output_type": "execute_result"
    }
   ],
   "source": [
    "from q1_time import q1_time\n",
    "\n",
    "q1_time(file_path)\n",
    "\n",
    "# [(datetime.date(2021, 2, 12), 'RanbirS00614606'),\n",
    "#  (datetime.date(2021, 2, 13), 'MaanDee08215437'),\n",
    "#  (datetime.date(2021, 2, 17), 'RaaJVinderkaur'),\n",
    "#  (datetime.date(2021, 2, 16), 'jot__b'),\n",
    "#  (datetime.date(2021, 2, 14), 'rebelpacifist'),\n",
    "#  (datetime.date(2021, 2, 18), 'neetuanjle_nitu'),\n",
    "#  (datetime.date(2021, 2, 15), 'jot__b'),\n",
    "#  (datetime.date(2021, 2, 20), 'MangalJ23056160'),\n",
    "#  (datetime.date(2021, 2, 23), 'Surrypuria'),\n",
    "#  (datetime.date(2021, 2, 19), 'Preetm91')]\n",
    "\n",
    "# Line #    Mem usage    Increment  Occurrences   Line Contents\n",
    "# =============================================================\n",
    "#     47     80.0 MiB     80.0 MiB           1   @timer\n",
    "#     48                                         @profile\n",
    "#     49                                         def q1_time(file_path: str) -> List[Tuple[datetime.date, str]]:\n",
    "#     50     80.0 MiB      0.0 MiB           1       result = list()\n",
    "#     51    142.1 MiB     62.0 MiB           1       df = json_to_df(file_path)\n",
    "#     52    142.1 MiB      0.0 MiB           1       date_df = df['date']\n",
    "#     53    142.5 MiB      0.4 MiB           1       top_10_dates = get_top_10_dates(date_df)\n",
    "#     54    143.7 MiB     -9.7 MiB          11       for date in top_10_dates:\n",
    "#     55    143.7 MiB     -8.5 MiB          10           user = get_tweeter_user_per_day(date, df)\n",
    "#     56    143.7 MiB     -9.7 MiB          10           result.append((date, user))\n",
    "#     57    142.7 MiB     -1.0 MiB           1       return result\n",
    "\n",
    "\n",
    "# Function 'q1_time' executed in 6.556365 seconds\n"
   ]
  },
  {
   "cell_type": "code",
   "execution_count": 18,
   "metadata": {},
   "outputs": [
    {
     "name": "stdout",
     "output_type": "stream",
     "text": [
      "Filename: /Users/Carlos/Documents/Scripts/Desafios/latam_de/src/q2_memory.py\n",
      "\n",
      "Line #    Mem usage    Increment  Occurrences   Line Contents\n",
      "=============================================================\n",
      "    27    105.7 MiB    105.7 MiB           1   @timer\n",
      "    28                                         @profile\n",
      "    29                                         def q2_memory(file_path: str) -> List[Tuple[str, int]]:\n",
      "    30    105.7 MiB      0.0 MiB           1       pattern = EMOJI_PATTERN\n",
      "    31    105.7 MiB      0.0 MiB           1       emoji_counts = Counter()\n",
      "    32    105.8 MiB    -80.0 MiB           2       with open(file_path, 'r') as file:\n",
      "    33    105.9 MiB -6418673.5 MiB      117408           for line in file:\n",
      "    34    105.9 MiB -6418600.0 MiB      117407               try:\n",
      "    35    105.9 MiB -6418619.9 MiB      117407                   tweet = json.loads(line)\n",
      "    36    105.9 MiB -6418626.2 MiB      117407                   text = tweet.get('renderedContent', '').replace('\\n', '')\n",
      "    37    105.9 MiB -6418638.0 MiB      117407                   emoji_counts.update(re.findall(pattern, text))\n",
      "    38    105.9 MiB -6418646.4 MiB      117407                   tweet_content = tweet.get('quotedTweet', False)\n",
      "    39    105.9 MiB -6418653.0 MiB      117407                   if tweet_content:\n",
      "    40    105.9 MiB -4443231.1 MiB       82872                       emoji_counts.update(\n",
      "    41    105.9 MiB -4443230.6 MiB       82872                           re.findall(\n",
      "    42    105.9 MiB -2221614.0 MiB       41436                               pattern,\n",
      "    43    105.9 MiB -2221615.6 MiB       41436                               tweet_content.get('renderedContent', '')\n",
      "    44                                                                 )\n",
      "    45                                                             )\n",
      "    46                                                     except json.JSONDecodeError as e:\n",
      "    47                                                         print(f\"Error decoding JSON in line: {line}. Error: {e}\")\n",
      "    48     26.0 MiB    -79.8 MiB           1       return emoji_counts.most_common(10)\n",
      "\n",
      "\n",
      "Function 'q2_memory' executed in 28.449040 seconds\n"
     ]
    },
    {
     "data": {
      "text/plain": [
       "[('🙏', 8916),\n",
       " ('😂', 4067),\n",
       " ('🚜', 3274),\n",
       " ('✊', 3046),\n",
       " ('🏻', 2696),\n",
       " ('🌾', 2652),\n",
       " ('🇳', 2421),\n",
       " ('🇮', 2417),\n",
       " ('❤', 2263),\n",
       " ('🤣', 2110)]"
      ]
     },
     "execution_count": 18,
     "metadata": {},
     "output_type": "execute_result"
    }
   ],
   "source": [
    "from q2_memory import q2_memory\n",
    "\n",
    "q2_memory(file_path)\n",
    "\n",
    "\n",
    "# [('🙏', 8916),\n",
    "#  ('😂', 4067),\n",
    "#  ('🚜', 3274),\n",
    "#  ('✊', 3046),\n",
    "#  ('🏻', 2696),\n",
    "#  ('🌾', 2652),\n",
    "#  ('🇳', 2421),\n",
    "#  ('🇮', 2417),\n",
    "#  ('❤', 2263),\n",
    "#  ('🤣', 2110)]\n",
    "\n",
    "# Line #    Mem usage    Increment  Occurrences   Line Contents\n",
    "# =============================================================\n",
    "#     27     55.7 MiB     55.7 MiB           1   @timer\n",
    "#     28                                         @profile\n",
    "#     29                                         def q2_memory(file_path: str) -> List[Tuple[str, int]]:\n",
    "#     30     55.7 MiB      0.0 MiB           1       pattern = EMOJI_PATTERN\n",
    "#     31     55.7 MiB      0.0 MiB           1       emoji_counts = Counter()\n",
    "#     32     55.8 MiB    -35.6 MiB           2       with open(file_path, 'r') as file:\n",
    "#     33     57.1 MiB -3278819.6 MiB      117408           for line in file:\n",
    "#     34     57.1 MiB -3278787.3 MiB      117407               try:\n",
    "#     35     57.1 MiB -3278796.0 MiB      117407                   tweet = json.loads(line)\n",
    "#     36     57.1 MiB -3278799.6 MiB      117407                   text = tweet.get('renderedContent', '').replace('\\n', '')\n",
    "#     37     57.1 MiB -3278805.4 MiB      117407                   emoji_counts.update(re.findall(pattern, text))\n",
    "#     38     57.1 MiB -3278808.6 MiB      117407                   tweet_content = tweet.get('quotedTweet', False)\n",
    "#     39     57.1 MiB -3278811.2 MiB      117407                   if tweet_content:\n",
    "#     40     57.1 MiB -2275699.9 MiB       82872                       emoji_counts.update(\n",
    "#     41     57.1 MiB -2275698.3 MiB       82872                           re.findall(\n",
    "#     42     57.1 MiB -1137848.1 MiB       41436                               pattern,\n",
    "#     43     57.1 MiB -1137849.2 MiB       41436                               tweet_content.get('renderedContent', '')\n",
    "#     44                                                                 )\n",
    "#     45                                                             )\n",
    "#     46                                                     except json.JSONDecodeError as e:\n",
    "#     47                                                         print(f\"Error decoding JSON in line: {line}. Error: {e}\")\n",
    "#     48     21.7 MiB    -34.0 MiB           1       return emoji_counts.most_common(10)\n",
    "\n",
    "\n",
    "# Function 'q2_memory' executed in 29.172508 seconds"
   ]
  },
  {
   "cell_type": "code",
   "execution_count": 19,
   "metadata": {},
   "outputs": [
    {
     "name": "stdout",
     "output_type": "stream",
     "text": [
      "Filename: /Users/Carlos/Documents/Scripts/Desafios/latam_de/src/q2_time.py\n",
      "\n",
      "Line #    Mem usage    Increment  Occurrences   Line Contents\n",
      "=============================================================\n",
      "    59     40.4 MiB     40.4 MiB           1   @timer\n",
      "    60                                         @profile\n",
      "    61                                         def q2_time(file_path: str) -> List[Tuple[str, int]]:\n",
      "    62    170.4 MiB    130.0 MiB           1       tweets_content = json_to_text(file_path)\n",
      "    63    170.7 MiB      0.3 MiB           1       qty_emojis = count_emojis(tweets_content)\n",
      "    64    170.7 MiB      0.0 MiB           1       return qty_emojis\n",
      "\n",
      "\n",
      "Function 'q2_time' executed in 6.480842 seconds\n"
     ]
    },
    {
     "data": {
      "text/plain": [
       "[('🙏', 8916),\n",
       " ('😂', 4067),\n",
       " ('🚜', 3274),\n",
       " ('✊', 3046),\n",
       " ('🏻', 2696),\n",
       " ('🌾', 2652),\n",
       " ('🇳', 2421),\n",
       " ('🇮', 2417),\n",
       " ('❤', 2263),\n",
       " ('🤣', 2110)]"
      ]
     },
     "execution_count": 19,
     "metadata": {},
     "output_type": "execute_result"
    }
   ],
   "source": [
    "from q2_time import q2_time\n",
    "\n",
    "q2_time(file_path)\n",
    "\n",
    "# [('🙏', 8916),\n",
    "#  ('😂', 4067),\n",
    "#  ('🚜', 3274),\n",
    "#  ('✊', 3046),\n",
    "#  ('🏻', 2696),\n",
    "#  ('🌾', 2652),\n",
    "#  ('🇳', 2421),\n",
    "#  ('🇮', 2417),\n",
    "#  ('❤', 2263),\n",
    "#  ('🤣', 2110)]\n",
    "\n",
    "# Line #    Mem usage    Increment  Occurrences   Line Contents\n",
    "# =============================================================\n",
    "#     59     53.2 MiB     53.2 MiB           1   @timer\n",
    "#     60                                         @profile\n",
    "#     61                                         def q2_time(file_path: str) -> List[Tuple[str, int]]:\n",
    "#     62    188.6 MiB    135.4 MiB           1       tweets_content = json_to_text(file_path)\n",
    "#     63    189.2 MiB      0.6 MiB           1       qty_emojis = count_emojis(tweets_content)\n",
    "#     64    189.2 MiB      0.0 MiB           1       return qty_emojis\n",
    "\n",
    "\n",
    "# Function 'q2_time' executed in 6.400599 seconds"
   ]
  },
  {
   "cell_type": "code",
   "execution_count": null,
   "metadata": {},
   "outputs": [],
   "source": [
    "from q3_memory import q3_memory\n",
    "q3_memory(file_path)\n",
    "\n",
    "# [('narendramodi', 2607),\n",
    "#  ('Kisanektamorcha', 2038),\n",
    "#  ('RakeshTikaitBKU', 1842),\n",
    "#  ('PMOIndia', 1554),\n",
    "#  ('GretaThunberg', 1272),\n",
    "#  ('RahulGandhi', 1230),\n",
    "#  ('RaviSinghKA', 1120),\n",
    "#  ('DelhiPolice', 1119),\n",
    "#  ('rihanna', 1112),\n",
    "#  ('UNHumanRights', 1057)]\n",
    "\n",
    "# Line #    Mem usage    Increment  Occurrences   Line Contents\n",
    "# =============================================================\n",
    "#      9     43.5 MiB     43.5 MiB           1   @timer\n",
    "#     10                                         @profile\n",
    "#     11                                         def q3_memory(file_path: str) -> List[Tuple[str, int]]:\n",
    "#     12     43.5 MiB      0.0 MiB           1       user_counts = Counter()\n",
    "#     13     43.5 MiB      0.0 MiB           1       pattern = r'\\B@([a-zA-Z0-9_]+)\\b'\n",
    "#     14     43.5 MiB    -28.9 MiB           2       with open(file_path, 'r') as file:\n",
    "#     15     45.0 MiB -880597.8 MiB      117408           for line in file:\n",
    "#     16     45.0 MiB -880571.6 MiB      117407               try:\n",
    "#     17     45.0 MiB -880578.9 MiB      117407                   tweet = json.loads(line)\n",
    "#     18     45.0 MiB -880583.6 MiB      117407                   users = re.findall(pattern, tweet.get('renderedContent', ''))\n",
    "#     19     45.0 MiB -880586.7 MiB      117407                   user_counts.update(users)\n",
    "#     20     45.0 MiB -880589.3 MiB      117407                   quoted_tweet = tweet.get('quotedTweet')\n",
    "#     21     45.0 MiB -880592.0 MiB      117407                   if quoted_tweet:\n",
    "#     22     45.0 MiB -302738.7 MiB       41436                       quoted_users = re.findall(pattern, quoted_tweet.get('renderedContent', ''))\n",
    "#     23     45.0 MiB -302739.5 MiB       41436                       user_counts.update(quoted_users)\n",
    "#     24                                                     except json.JSONDecodeError as e:\n",
    "#     25                                                         print(f\"Error decoding JSON in line: {line}. Error: {e}\")\n",
    "#     26     16.5 MiB    -27.0 MiB           1       return user_counts.most_common(10)\n",
    "\n",
    "\n",
    "# Function 'q3_memory' executed in 24.060625 seconds\n"
   ]
  },
  {
   "cell_type": "code",
   "execution_count": 32,
   "metadata": {},
   "outputs": [
    {
     "name": "stdout",
     "output_type": "stream",
     "text": [
      "Filename: /Users/Carlos/Documents/Scripts/Desafios/latam_de/src/q3_time.py\n",
      "\n",
      "Line #    Mem usage    Increment  Occurrences   Line Contents\n",
      "=============================================================\n",
      "    44     53.2 MiB     53.2 MiB           1   @timer\n",
      "    45                                         @profile\n",
      "    46                                         def q3_time(file_path: str) -> List[Tuple[str, int]]:\n",
      "    47    160.0 MiB    106.8 MiB           1       tweets_content = json_to_text(file_path)\n",
      "    48    166.4 MiB      6.4 MiB           1       users_qty = count_users(tweets_content)\n",
      "    49    166.4 MiB      0.0 MiB           1       return users_qty\n",
      "\n",
      "\n",
      "Function 'q3_time' executed in 6.478678 seconds\n"
     ]
    },
    {
     "data": {
      "text/plain": [
       "[('narendramodi', 2156),\n",
       " ('RakeshTikaitBKU', 1635),\n",
       " ('Kisanektamorcha', 1597),\n",
       " ('PMOIndia', 1355),\n",
       " ('GretaThunberg', 1161),\n",
       " ('RahulGandhi', 1055),\n",
       " ('UNHumanRights', 1021),\n",
       " ('DelhiPolice', 1001),\n",
       " ('rihanna', 949),\n",
       " ('hrw', 907)]"
      ]
     },
     "execution_count": 32,
     "metadata": {},
     "output_type": "execute_result"
    }
   ],
   "source": [
    "from q3_time import q3_time\n",
    "\n",
    "q3_time(file_path)\n",
    "\n",
    "# [('narendramodi', 2156),\n",
    "#  ('RakeshTikaitBKU', 1635),\n",
    "#  ('Kisanektamorcha', 1597),\n",
    "#  ('PMOIndia', 1355),\n",
    "#  ('GretaThunberg', 1161),\n",
    "#  ('RahulGandhi', 1055),\n",
    "#  ('UNHumanRights', 1021),\n",
    "#  ('DelhiPolice', 1001),\n",
    "#  ('rihanna', 949),\n",
    "#  ('hrw', 907)]\n",
    "\n",
    "# Line #    Mem usage    Increment  Occurrences   Line Contents\n",
    "# =============================================================\n",
    "#     44     53.2 MiB     53.2 MiB           1   @timer\n",
    "#     45                                         @profile\n",
    "#     46                                         def q3_time(file_path: str) -> List[Tuple[str, int]]:\n",
    "#     47    160.0 MiB    106.8 MiB           1       tweets_content = json_to_text(file_path)\n",
    "#     48    166.4 MiB      6.4 MiB           1       users_qty = count_users(tweets_content)\n",
    "#     49    166.4 MiB      0.0 MiB           1       return users_qty\n",
    "\n",
    "\n",
    "# Function 'q3_time' executed in 6.478678 seconds"
   ]
  }
 ],
 "metadata": {
  "kernelspec": {
   "display_name": ".venv",
   "language": "python",
   "name": "python3"
  },
  "language_info": {
   "codemirror_mode": {
    "name": "ipython",
    "version": 3
   },
   "file_extension": ".py",
   "mimetype": "text/x-python",
   "name": "python",
   "nbconvert_exporter": "python",
   "pygments_lexer": "ipython3",
   "version": "3.10.5"
  },
  "orig_nbformat": 4
 },
 "nbformat": 4,
 "nbformat_minor": 2
}
